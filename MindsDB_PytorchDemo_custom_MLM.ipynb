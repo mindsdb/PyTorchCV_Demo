{
 "cells": [
  {
   "cell_type": "markdown",
   "id": "minus-rhythm",
   "metadata": {},
   "source": [
    "## Pytorch Community Voices Demo - MindsDB\n",
    "### 2021.09.01\n",
    "\n",
    "Author: Natasha Seelam, PhD (natasha@mindsdb.com)\n",
    "\n",
    "In the following notebook, we'll show you how you can make your own custom encoder, and pipeline, using lightwood under the hood. The model we've chosen is a **Masked Language Model**, and specifically, we're going to treat it as if it were a classifier.\n",
    "\n",
    "**Please note, the typical classification strategy is to place a linear layer after the transformer and fine tune (this MindsDB's default). This example just demonstrates that we can still build our own custom encoder to leverage novel pytorch models with diverse loss functions and criteria.**\n",
    "\n",
    "Please feel free to email us, or join our community slack if you have any questions you'd like to discuss!"
   ]
  },
  {
   "cell_type": "code",
   "execution_count": 1,
   "id": "compact-audit",
   "metadata": {},
   "outputs": [],
   "source": [
    "import pandas as pd\n",
    "import numpy as np\n",
    "\n",
    "# Machine learning\n",
    "import torch\n",
    "import lightwood as lw\n",
    "from lightwood import ProblemDefinition, JsonAI, json_ai_from_problem, code_from_json_ai, predictor_from_code\n",
    "\n",
    "import os\n",
    "import time"
   ]
  },
  {
   "cell_type": "code",
   "execution_count": 2,
   "id": "decent-black",
   "metadata": {},
   "outputs": [
    {
     "name": "stdout",
     "output_type": "stream",
     "text": [
      "Version 1.1.0\n"
     ]
    }
   ],
   "source": [
    "# Lightwood version > 1.0.0 supports J{ai}-SON : )\n",
    "print(\"Version\", lw.__version__)"
   ]
  },
  {
   "cell_type": "code",
   "execution_count": 3,
   "id": "unauthorized-civilian",
   "metadata": {},
   "outputs": [
    {
     "data": {
      "text/plain": [
       "<torch._C.Generator at 0x7f1476ccf990>"
      ]
     },
     "execution_count": 3,
     "metadata": {},
     "output_type": "execute_result"
    }
   ],
   "source": [
    "# Setup torch seed for reproducibility\n",
    "torch.manual_seed(1234)"
   ]
  },
  {
   "cell_type": "markdown",
   "id": "comprehensive-fitting",
   "metadata": {},
   "source": [
    "## 1) Load the dataset\n",
    "\n",
    "We'll use a tripadvisor hotel review dataset (found on [kaggle](https://www.kaggle.com/andrewmvd/trip-advisor-hotel-reviews)).\n",
    "The goal of this dataset is to be able to predict the rating (1-5 stars, with 1 being the lowest and 5 being the highest) of the hotel, given an arbitary review."
   ]
  },
  {
   "cell_type": "code",
   "execution_count": 4,
   "id": "moral-assault",
   "metadata": {},
   "outputs": [
    {
     "name": "stdout",
     "output_type": "stream",
     "text": [
      "\u001b[0m\u001b[01;34mtripadvisor\u001b[0m/\r\n"
     ]
    }
   ],
   "source": [
    "%ls datasets/"
   ]
  },
  {
   "cell_type": "code",
   "execution_count": 5,
   "id": "handy-maldives",
   "metadata": {
    "scrolled": true
   },
   "outputs": [
    {
     "data": {
      "text/html": [
       "<div>\n",
       "<style scoped>\n",
       "    .dataframe tbody tr th:only-of-type {\n",
       "        vertical-align: middle;\n",
       "    }\n",
       "\n",
       "    .dataframe tbody tr th {\n",
       "        vertical-align: top;\n",
       "    }\n",
       "\n",
       "    .dataframe thead th {\n",
       "        text-align: right;\n",
       "    }\n",
       "</style>\n",
       "<table border=\"1\" class=\"dataframe\">\n",
       "  <thead>\n",
       "    <tr style=\"text-align: right;\">\n",
       "      <th></th>\n",
       "      <th>Review</th>\n",
       "      <th>Rating</th>\n",
       "    </tr>\n",
       "  </thead>\n",
       "  <tbody>\n",
       "    <tr>\n",
       "      <th>10726</th>\n",
       "      <td>not recommend hotel did reviewers actually sta...</td>\n",
       "      <td>1</td>\n",
       "    </tr>\n",
       "    <tr>\n",
       "      <th>14919</th>\n",
       "      <td>barcelona rocks, stayed hotel jazz girlfriend ...</td>\n",
       "      <td>4</td>\n",
       "    </tr>\n",
       "    <tr>\n",
       "      <th>19098</th>\n",
       "      <td>ok hotel good location stayed night way beijin...</td>\n",
       "      <td>3</td>\n",
       "    </tr>\n",
       "    <tr>\n",
       "      <th>2450</th>\n",
       "      <td>great service nice pool ok beach lovely ground...</td>\n",
       "      <td>4</td>\n",
       "    </tr>\n",
       "    <tr>\n",
       "      <th>960</th>\n",
       "      <td>surprising treat spent weekend july 15/16 2006...</td>\n",
       "      <td>5</td>\n",
       "    </tr>\n",
       "  </tbody>\n",
       "</table>\n",
       "</div>"
      ],
      "text/plain": [
       "                                                  Review  Rating\n",
       "10726  not recommend hotel did reviewers actually sta...       1\n",
       "14919  barcelona rocks, stayed hotel jazz girlfriend ...       4\n",
       "19098  ok hotel good location stayed night way beijin...       3\n",
       "2450   great service nice pool ok beach lovely ground...       4\n",
       "960    surprising treat spent weekend july 15/16 2006...       5"
      ]
     },
     "execution_count": 5,
     "metadata": {},
     "output_type": "execute_result"
    }
   ],
   "source": [
    "data_dir = \"datasets/\"\n",
    "dataset = \"tripadvisor\"\n",
    "filename = os.path.join(data_dir, dataset, \"data.csv\")\n",
    "\n",
    "\n",
    "# Load the data, and scramble the order. The way the data has been \n",
    "data = pd.read_csv(filename).sample(frac=1, random_state=42)\n",
    "\n",
    "data.head()"
   ]
  },
  {
   "cell_type": "markdown",
   "id": "attempted-michael",
   "metadata": {},
   "source": [
    "We can see the polarity between a 5-star and 1-star rating. Positive words are more associated to good reviews versus one-star labels."
   ]
  },
  {
   "cell_type": "code",
   "execution_count": 6,
   "id": "active-season",
   "metadata": {},
   "outputs": [
    {
     "name": "stdout",
     "output_type": "stream",
     "text": [
      "\u001b[1mFive star (Label=5) Review:\n",
      "\u001b[0m\n",
      "surprising treat spent weekend july 15/16 2006 cartwright hotel based purely recommendations read site, actually expecting like small older european hotel, cartwright amazing, small elegant pleasant staff knowlegable city, room small nicely appointed queen bed linens quality, no airconditioning temperatures sf rarely warrant open windows fresh air night 4th floor, wine hour afternoon gave opportunity meet guests share days adventures breakfast buffet adequate, walk half block powell st cable car usually crowded stop, sf taxi cabs clean reasonably priced usually came built tour guide unlike cities english optional business, cartwright definitely hotel choice return san francisco,  \n",
      "\u001b[1m\n",
      "\n",
      "One star (Label=1) Review: \n",
      "\u001b[0m\n",
      "not recommend hotel did reviewers actually stay hotel did, good thing hotel location really close leidseplein, shared facilities filthy got, did not look toilet floor cleaned month, facilities not cleaned 3 days got, disgusting, staff rude complained left night early refused refund night, not recommend hotel,  \n"
     ]
    }
   ],
   "source": [
    "# Rating examples\n",
    "print(\"\\033[1m\" + \"Five star (Label=5) Review:\\n\" + \"\\033[0m\")\n",
    "print(data[data[\"Rating\"] == 5][\"Review\"].iloc[0])\n",
    "\n",
    "print(\"\\033[1m\" + \"\\n\\nOne star (Label=1) Review: \\n\" + \"\\033[0m\")\n",
    "print(data[data[\"Rating\"] == 1][\"Review\"].iloc[0])\n"
   ]
  },
  {
   "cell_type": "markdown",
   "id": "incomplete-baseline",
   "metadata": {},
   "source": [
    "The ratings distribution is not equivalent across all labels; while we will use accuracy, we encourage considering other metrics to predict on such as precision, recall, and accuracy. For simplicity, we merely consider the accuracy."
   ]
  },
  {
   "cell_type": "code",
   "execution_count": 7,
   "id": "external-springfield",
   "metadata": {},
   "outputs": [
    {
     "data": {
      "text/plain": [
       "Text(0.5, 1.0, 'Ratings distribution')"
      ]
     },
     "execution_count": 7,
     "metadata": {},
     "output_type": "execute_result"
    },
    {
     "data": {
      "image/png": "[encoded data removed]",
      "text/plain": [
       "<Figure size 432x288 with 1 Axes>"
      ]
     },
     "metadata": {
      "needs_background": "light"
     },
     "output_type": "display_data"
    }
   ],
   "source": [
    "# An example of the distribution of the model \n",
    "\n",
    "import matplotlib.pyplot as plt\n",
    "\n",
    "# Distribution of the ratings\n",
    "fig, ax = plt.subplots(1,1, figsize=(6,4))\n",
    "\n",
    "hist, bins = np.histogram(data[\"Rating\"], bins=np.arange(0.5, 6.5, 1))\n",
    "\n",
    "ax.bar(bins[:-1], hist.astype(np.float32) / hist.sum(), width=0.5)\n",
    "ax.set_xticks([i+0.5 for i in range(5)])\n",
    "ax.set_xticklabels([str(i+1) for i in range(5)])\n",
    "ax.set_yticks(np.arange(0, 0.55, 0.05))\n",
    "\n",
    "ax.set_xlabel(\"Ratings\")\n",
    "ax.set_ylabel(\"Percent of Dataset\")\n",
    "ax.set_title(\"Ratings distribution\")"
   ]
  },
  {
   "cell_type": "markdown",
   "id": "organized-romance",
   "metadata": {},
   "source": [
    "As indicated before, we will split our data into a training/testing branch."
   ]
  },
  {
   "cell_type": "code",
   "execution_count": 8,
   "id": "featured-genius",
   "metadata": {},
   "outputs": [],
   "source": [
    "# We'll split our training/testing fraction manually\n",
    "\n",
    "ptrain = 0.8\n",
    "Ntrain = int(data.shape[0] * ptrain)\n",
    "Ntest = int(data.shape[0] - Ntrain)\n",
    "\n",
    "train = data.iloc[:Ntrain, :]\n",
    "test = data.iloc[Ntrain:, :]"
   ]
  },
  {
   "cell_type": "markdown",
   "id": "actual-burner",
   "metadata": {},
   "source": [
    "## 2) Building your own custom encoder\n",
    "\n",
    "**NOTE**: *When I tested this encoder, I found I needed at least 8GB of VRAM and a GPU.*\n",
    "\n",
    "For our custom encoder, we will use a **masked language model** (MLM). To explain how an MLM works, imagine a sentence like this:\n",
    "\n",
    "\"This hotel is amazing! I loved my stay here, the bed was comfy and everything was perfect!\"\n",
    "\n",
    "We can convert this into a classification problem using MLM as such:\n",
    "\n",
    "\"Label is [MASK]. This hotel is amazing! I loved my stay here, the bed was comfy and everything was perfect!\"\n",
    "\n",
    "The goal would be to predict whether the hidden token is a positive or negative sentiment. To do this, we will construct \"placeholder\" tokens that represent the hidden label. The model then computes losses to try to predict what hidden token should replace the underlying label. The ground-truth label will be one of the placeholders we setup.\n",
    "\n",
    "For convenience, we have provided 2 different scripts, `custom_encoder.py` and `mlm_helpers.py`. The `custom_encoder` script provides an example of how to build an MLM for classification, and `mlm_helpers`, as the name suggests, provides a few functions to help construct labels, new vocabulary, and train a model. \n",
    "\n",
    "We will show how to integrate this as a separate branch in the lightwood repo, and train with your own encoder of choice."
   ]
  },
  {
   "cell_type": "markdown",
   "id": "valued-thailand",
   "metadata": {},
   "source": [
    "### 2a) Making the custom encoder files \n",
    "\n",
    "The goal of the encoder is to learn a representation. Some encoders can be trained or \"tuned\" to generate a representation related to a particular label to ensure the representations contain useful information. In this simple example, we will tune the encoder with the target data.\n",
    "\n",
    "In this case, a representation is a feature vector that translates the \"data\" space into a format that is usable by a model. The term \"feature vector\", \"representation\", and \"embedding\" will be used interchangeably hence forth.\n",
    "\n",
    "![This is the caption\\label{mylabel}](images/fig1.png)\n",
    "*Figure 1: A representation will take an arbitrary sentence, like this hotel review, and convert it into some vector that a model can use. How the vector is constructed depends on the modeling of the language.*\n",
    "<br>"
   ]
  },
  {
   "cell_type": "markdown",
   "id": "located-facial",
   "metadata": {},
   "source": [
    "In the following example in ```custom_encoder.py``` we consider the ```MLMEncoder``` class. All base encoders require the following steps:\n",
    "\n",
    "(1) an ```__init__``` call used to instantitate the details of the encoder. The only required component of this call is to ensure that the encoder knows whether you are tuning the embeddings to the target or not.  \n",
    "\n",
    "(2) A ```prepare``` call; This sets up the preliminary ground work of tokenizing and training the encoder to the representation of interest. You can think of this as the ***feature extraction step***\n",
    "\n",
    "(3) An ```encode``` command; this creates a representation/embedding that will be provided downstream to the mixer or predictive model of the piepline .\n",
    "\n",
    "(4) A ```decode``` step; This steps translated the featurized form back into the original space. For text, we implemented an Exception, as decoding will be tricky (as an aside -one possible option is to decode back into the tokenized space for language generation!)\n",
    "\n",
    "(5) A ```to``` step; this step enables you to set the model to a different device (CPU/CUDA)"
   ]
  },
  {
   "cell_type": "markdown",
   "id": "endless-mapping",
   "metadata": {},
   "source": [
    "For specific highlights of the custom encoder, see the script available. As a high level overview:\n",
    "\n",
    "1) The prepare step calls the ```DistilBertForMaskedLanguageModeling``` model and ```DistilBertTokenizerFast``` for the model and tokenizer respectively  \n",
    "\n",
    "2) It prepares a priming sentence with a \"[MASK]\" to be predicted, with the help of ```mlm_helpers``` functions.  \n",
    "\n",
    "3) For each label, it creates a new token \"[Ci]\" where $i$ represents the label number and resizes it to the tokenizer and the model embedding dimensionality. The goal of the model is to predict which token must appear under the Mask.\n",
    "\n",
    "4) It trains the MLM to predict the mask from the underlying label for 1 epoch (default)  \n",
    "\n",
    "5) The encoder creates an embedding by predicting what the underlying mask token is, replacing it in the model input, and then calculating the last hidden-state of the base DistilBert model and presenting the \"[CLS]\" token."
   ]
  },
  {
   "cell_type": "markdown",
   "id": "assisted-hudson",
   "metadata": {},
   "source": [
    "For simplicity, we've made these encoders in a custom branch of lightwood. You can access it as:\n",
    "\n",
    "```git clone -b custom_mlm git@github.com:mindsdb/lightwood.git``` \n",
    "\n",
    "Alternatively, you can place the two python files in your own branch of lightwood and edit the ``__init__`` files accordingly, as we'll describe below:"
   ]
  },
  {
   "cell_type": "markdown",
   "id": "downtown-pioneer",
   "metadata": {},
   "source": [
    "You can see within ```lightwood/encoder/text``` the new encoder ```custom_encoders.py``` script.\n",
    "\n",
    "Subsequently, for the helpers file, it is in ```lightwood/encoders/text/helpers```.\n",
    "\n",
    "Now, we need to provide references for lightwood to access these encoders. Change the ```__init__.py``` file in ```lightwood/encoder/text/``` and ```lightwood/encoder/``` to enable lightwood to \"see\" your encoders.\n",
    "\n",
    "![This is the caption\\label{mylabel}](images/fig2.png)\n",
    "<br>\n",
    "\n",
    "\n",
    "Lastly, make sure to add the `unit_classifier` script to `lightwood/model/` and change the `__init__.py` file there too.\n",
    "\n",
    "In the spirit of lightwood, we have the following:<br>\n",
    "(1) Data pre-processing <br>\n",
    "(2) Feature engineering *via* Encoders <br>\n",
    "(3) Model building *via* Models<br>.\n",
    "\n",
    "Under the hood, we'll see that lightwood will recognize the types of each data column (Review - rich text, Rating - categorical). What we want to customize is the feature engineering and model building.\n",
    "\n",
    "Typically, the feature engineering for text would be to create this fixed length embedding. If we had other columns of data, we could concatenate this vector with the other data outputs. However, we have only one output, so we'll do the following:\n",
    "\n",
    "(A) Train an encoder to predict the masked token. This will be the transformer (neural network) that is trained\n",
    "(B) Use a model that inherits the encoder, takes the logits of the output and soft-maxes it. We call this the `UnitClassifier` model."
   ]
  },
  {
   "cell_type": "markdown",
   "id": "sustained-oklahoma",
   "metadata": {},
   "source": [
    "## 3) Testing your new encoder out!\n",
    "\n",
    "Let's now go ahead and use the J{ai}SON language to run our custom encoder.\n",
    "\n",
    "First, we need to define the problem-definition. All we need to specify is the goal of what we're trying to predict. In this case, the output will be `Rating`.\n",
    "\n",
    "Once we specify a problem definition, we can feed into J{ai}SON using `json_ai_from_problem`. We need to specify our input dataframe (`data`) and the problem definition before."
   ]
  },
  {
   "cell_type": "code",
   "execution_count": 9,
   "id": "diagnostic-browse",
   "metadata": {},
   "outputs": [
    {
     "name": "stderr",
     "output_type": "stream",
     "text": [
      "INFO:lightwood-3276:Analyzing a sample of 10044\n",
      "INFO:lightwood-3276:from a total population of 20491, this is equivalent to 49.0% of your data.\n",
      "INFO:lightwood-3276:Using 15 processes to deduct types.\n",
      "INFO:lightwood-3276:Infering type for: Rating\n",
      "INFO:lightwood-3276:Infering type for: Review\n",
      "INFO:lightwood-3276:Column Rating has data type categorical\n",
      "INFO:lightwood-3276:Doing text detection for column: Review\n",
      "[nltk_data] Downloading package stopwords to\n",
      "[nltk_data]     /home/natasha/nltk_data...\n",
      "[nltk_data]   Package stopwords is already up-to-date!\n",
      "INFO:lightwood-3276:Starting statistical analysis\n",
      "INFO:lightwood-3276:Finished statistical analysis\n"
     ]
    }
   ],
   "source": [
    "# Create the problem definition\n",
    "\n",
    "problem_definition = {'target': 'Rating'}\n",
    "\n",
    "# Generate the j{ai}son syntax\n",
    "JsonAI = json_ai_from_problem(data, problem_definition)"
   ]
  },
  {
   "cell_type": "code",
   "execution_count": 10,
   "id": "southern-registrar",
   "metadata": {},
   "outputs": [],
   "source": [
    "json_filename = \"sample_customtext.json\"\n",
    "with open(json_filename, \"w\") as fp:\n",
    "   fp.write(JsonAI.to_json())"
   ]
  },
  {
   "cell_type": "markdown",
   "id": "small-eligibility",
   "metadata": {},
   "source": [
    "Under the hood, what we see is the following:\n",
    "\n",
    "(1) Lightwood takes a sample of your data to make some inferences on type (ex it sees 'Rating' as Categorical and 'Review' as text. <br>\n",
    "(2) It performs a statistical analysis around the distribution (ex: a histogram/bar chart of numerical quantities). <br>\n",
    "(3) Provides a JsonAI object that holds descriptors of the framework. <br>\n",
    "\n",
    "We want to modify the defaults so that we are using our own `MLMEncoder`. You may also want to feed in non-default keywords under the `\"args\": {}` component.\n",
    "\n",
    "Note, we will use the `UnitClassifier` model, a variant of our `Unit` model. Normally, for datasets with multiple columns, encoders featurize each column of data. We then can concatenate all those features for a vector that represents the multiple columns; lightwood then allows you to test multiple predictor algorithms to see which may work optimally (usually `Neural` for a neural network and `LightGBM` for the tree-based method. \n",
    "\n",
    "In this case, we only have 1 column of data, and 1 target. Training another model on top of the transformer is overkill, so in the interest of time, we omit all other models to explicitly inherit the encoder's model. This variant in particular clamps the output so it only returns a guess. In our internal modules, we keep an \"unknown\" class to help our models generalize to unseen distributions.\n",
    "\n",
    "Once the JSON input has been generated, we'll edit the feature's module, specifically for the 'Review' column as follows:\n",
    "![This is the caption\\label{mylabel}](images/fig3.png)\n",
    "<br>\n",
    "\n",
    "In general, you can manually modify any feature you want OR specify *a priori* if you're comfortable with the JSON format. This applies to features, or models, which are the predictors that actually generate the output. You can also edit models by specifying them under the tab above\n",
    "\n",
    "After you edit your JSON file (you can alternatively load \"sample_customtext_modified.json\"), go ahead and re-load it with the following command:"
   ]
  },
  {
   "cell_type": "code",
   "execution_count": 11,
   "id": "statutory-australian",
   "metadata": {},
   "outputs": [],
   "source": [
    "# Load the json AI\n",
    "json_filename = \"sample_customtext_modified.json\"\n",
    "with open(json_filename, \"r\") as fp:\n",
    "   modified_json = JsonAI.from_json(fp.read())\n"
   ]
  },
  {
   "cell_type": "code",
   "execution_count": 12,
   "id": "cleared-compact",
   "metadata": {},
   "outputs": [],
   "source": [
    "# Import the two new calls\n",
    "modified_json.imports = ['from lightwood.model import UnitClassifier', 'from lightwood.encoder import MLMEncoder']"
   ]
  },
  {
   "cell_type": "markdown",
   "id": "applicable-ending",
   "metadata": {},
   "source": [
    "Once you have this, you can convert the JsonAI into template python code to construct a predictor! This auto-generates all you need to run the framework end-to-end"
   ]
  },
  {
   "cell_type": "code",
   "execution_count": 13,
   "id": "alleged-nelson",
   "metadata": {
    "scrolled": true
   },
   "outputs": [
    {
     "name": "stdout",
     "output_type": "stream",
     "text": [
      "\n",
      "from lightwood.model import UnitClassifier\n",
      "from lightwood.encoder import MLMEncoder\n",
      "from lightwood.model import Neural\n",
      "from lightwood.model import LightGBM\n",
      "from lightwood.model import LightGBMArray\n",
      "from lightwood.model import SkTime\n",
      "from lightwood.model import Unit\n",
      "from lightwood.model import Regression\n",
      "from lightwood.ensemble import BestOf\n",
      "from lightwood.data import cleaner\n",
      "from lightwood.data import transform_timeseries, timeseries_analyzer\n",
      "from lightwood.data import splitter\n",
      "from lightwood.analysis import model_analyzer, explain\n",
      "from sklearn.metrics import r2_score, balanced_accuracy_score, accuracy_score\n",
      "import pandas as pd\n",
      "from lightwood.helpers.seed import seed\n",
      "from lightwood.helpers.log import log\n",
      "import lightwood\n",
      "from lightwood.api import *\n",
      "from lightwood.model import BaseModel\n",
      "from lightwood.encoder import BaseEncoder, __ts_encoders__\n",
      "from lightwood.encoder import Array, Binary, Categorical, Date, Datetime, Float, Image, Integer, Quantity, Rich_Text, Short_Text, Tags\n",
      "from lightwood.ensemble import BaseEnsemble\n",
      "from typing import Dict, List\n",
      "from lightwood.helpers.parallelism import mut_method_call\n",
      "from lightwood.data.encoded_ds import ConcatedEncodedDs\n",
      "from lightwood import ProblemDefinition\n",
      "from lightwood.api import PredictorInterface\n",
      "\n",
      "\n",
      "class Predictor(PredictorInterface):\n",
      "    target: str\n",
      "    models: List[BaseModel]\n",
      "    encoders: Dict[str, BaseEncoder]\n",
      "    ensemble: BaseEnsemble\n",
      "    mode: str\n",
      "\n",
      "    def __init__(self):\n",
      "        seed()\n",
      "        self.target = 'Rating'\n",
      "        self.mode = 'innactive'\n",
      "\n",
      "    def learn(self, data: pd.DataFrame) -> None:\n",
      "\n",
      "        # The type of each column\n",
      "        self.problem_definition = ProblemDefinition.from_dict({'target': 'Rating', 'nfolds': 30, 'pct_invalid': 1, 'unbias_target': False, 'seconds_per_model': 5263, 'seconds_per_encoder': 14134, 'time_aim': 8625.64385143053, 'target_weights': None, 'positive_domain': False, 'fixed_confidence': None, 'timeseries_settings': {'is_timeseries': False, 'order_by': None, 'window': None, 'group_by': None, 'use_previous_target': False, 'nr_predictions': None, 'historical_columns': None, 'target_type': ''}, 'anomaly_detection': True, 'anomaly_error_rate': None, 'anomaly_cooldown': True, 'ignore_features': [], 'fit_on_validation': True, 'strict_mode': True})\n",
      "        self.accuracy_functions = ['balanced_accuracy_score']\n",
      "        self.identifiers = {}\n",
      "        self.dtype_dict = {\n",
      "        'Rating': 'categorical',\n",
      "        'Review': 'mlmencoder'\n",
      "        }\n",
      "        self.statistical_analysis = lightwood.data.statistical_analysis(data, self.dtype_dict, {},\n",
      "                                                                        self.problem_definition)\n",
      "        self.mode = 'train'\n",
      "        # How columns are encoded\n",
      "        self.encoders = {\n",
      "        'Rating': Categorical.OneHotEncoder(is_target=True),\n",
      "        'Review': MLMEncoder(embed_mode=False,output_type=self.dtype_dict[self.target])\n",
      "        }\n",
      "        # Which column depends on which\n",
      "        self.dependencies = {\n",
      "        'Review': []\n",
      "        }\n",
      "        #\n",
      "        self.input_cols = ['Review']\n",
      "        \n",
      "        log.info('Cleaning the data')\n",
      "        data = cleaner(data=data,pct_invalid=self.problem_definition.pct_invalid,ignore_features=self.problem_definition.ignore_features,identifiers=self.identifiers,dtype_dict=self.dtype_dict,target=self.target,mode=self.mode,timeseries_settings=self.problem_definition.timeseries_settings,anomaly_detection=self.problem_definition.anomaly_detection)\n",
      "        \n",
      "        \n",
      "        \n",
      "        \n",
      "        nfolds = 30\n",
      "        log.info(f'Splitting the data into {nfolds} folds')\n",
      "        folds = splitter(data=data,k=nfolds,tss=self.problem_definition.timeseries_settings)\n",
      "        \n",
      "        log.info('Preparing the encoders')\n",
      "        \n",
      "        encoder_preping_dict = {}\n",
      "        enc_preping_data = pd.concat(folds[0:nfolds-1])\n",
      "        for col_name, encoder in self.encoders.items():\n",
      "            if not encoder.is_nn_encoder:\n",
      "                encoder_preping_dict[col_name] = [encoder, enc_preping_data[col_name], 'prepare']\n",
      "                log.info(f'Encoder preping dict length of: {len(encoder_preping_dict)}')\n",
      "        \n",
      "        parallel_preped_encoders = mut_method_call(encoder_preping_dict)\n",
      "        for col_name, encoder in parallel_preped_encoders.items():\n",
      "            self.encoders[col_name] = encoder\n",
      "        \n",
      "        if self.target not in parallel_preped_encoders:\n",
      "            self.encoders[self.target].prepare(enc_preping_data[self.target])\n",
      "        \n",
      "        for col_name, encoder in self.encoders.items():\n",
      "            if encoder.is_nn_encoder:\n",
      "                priming_data = pd.concat(folds[0:nfolds-1])\n",
      "                kwargs = {}\n",
      "                if self.dependencies[col_name]:\n",
      "                    kwargs['dependency_data'] = {}\n",
      "                    for col in self.dependencies[col_name]:\n",
      "                        kwargs['dependency_data'][col] = {\n",
      "                            'original_type': self.dtype_dict[col],\n",
      "                            'data': priming_data[col]\n",
      "                        }\n",
      "                    \n",
      "        \n",
      "                # This assumes target  encoders are also prepared in parallel, might not be true\n",
      "                if hasattr(encoder, 'uses_target'):\n",
      "                    kwargs['encoded_target_values'] = parallel_preped_encoders[self.target].encode(priming_data[self.target])\n",
      "        \n",
      "                encoder.prepare(priming_data[col_name], **kwargs)\n",
      "        \n",
      "            \n",
      "        \n",
      "\n",
      "        log.info('Featurizing the data')\n",
      "        encoded_ds_arr = lightwood.encode(self.encoders, folds, self.target)\n",
      "        train_data = encoded_ds_arr[0:int(nfolds*0.9)]\n",
      "        test_data = encoded_ds_arr[int(nfolds*0.9):]\n",
      "        \n",
      "        log.info('Training the models')\n",
      "        self.models = [UnitClassifier(target_encoder=self.encoders[self.target],stop_after=self.problem_definition.seconds_per_model)]\n",
      "        trained_models = []\n",
      "        for model in self.models:\n",
      "            try:\n",
      "                model.fit(train_data)\n",
      "                trained_models.append(model)\n",
      "            except Exception as e:\n",
      "                log.warning(f'Exception: {e} when training model: {model}')\n",
      "                if True and model.stable:\n",
      "                    raise e\n",
      "        \n",
      "        self.models = trained_models\n",
      "        \n",
      "        log.info('Ensembling the model')\n",
      "        self.ensemble = BestOf(data=test_data,accuracy_functions=self.accuracy_functions,target=self.target,models=self.models)\n",
      "        self.supports_proba = self.ensemble.supports_proba\n",
      "        \n",
      "        log.info('Analyzing the ensemble')\n",
      "        self.model_analysis, self.runtime_analyzer = model_analyzer(data=test_data,train_data=train_data,disable_column_importance=False,fixed_significance=None,confidence_normalizer=False,stats_info=self.statistical_analysis,ts_cfg=self.problem_definition.timeseries_settings,accuracy_functions=self.accuracy_functions,predictor=self.ensemble,target=self.target,dtype_dict=self.dtype_dict,positive_domain=self.statistical_analysis.positive_domain)\n",
      "        \n",
      "        # Partially fit the model on the reamining of the data, data is precious, we mustn't loss one bit\n",
      "        for model in self.models:\n",
      "            if True:\n",
      "                model.partial_fit(test_data, train_data)\n",
      "        \n",
      "\n",
      "    def predict(self, data: pd.DataFrame) -> pd.DataFrame:\n",
      "\n",
      "        self.mode = 'predict'\n",
      "        log.info('Cleaning the data')\n",
      "        data = cleaner(data=data,pct_invalid=self.problem_definition.pct_invalid,ignore_features=self.problem_definition.ignore_features,identifiers=self.identifiers,dtype_dict=self.dtype_dict,target=self.target,mode=self.mode,timeseries_settings=self.problem_definition.timeseries_settings,anomaly_detection=self.problem_definition.anomaly_detection)\n",
      "        \n",
      "        \n",
      "        \n",
      "        encoded_ds = lightwood.encode(self.encoders, data, self.target)[0]\n",
      "        encoded_data = encoded_ds.get_encoded_data(include_target=False)\n",
      "        \n",
      "\n",
      "        df = self.ensemble(encoded_ds)\n",
      "        insights = explain(data=data,encoded_data=encoded_data,predictions=df,ts_analysis=None,timeseries_settings=self.problem_definition.timeseries_settings,positive_domain=self.statistical_analysis.positive_domain,fixed_confidence=self.problem_definition.fixed_confidence,anomaly_detection=self.problem_definition.anomaly_detection,anomaly_error_rate=self.problem_definition.anomaly_error_rate,anomaly_cooldown=self.problem_definition.anomaly_cooldown,analysis=self.runtime_analyzer,target_name=self.target,target_dtype=self.dtype_dict[self.target])\n",
      "        return insights\n",
      "        \n",
      "\n",
      "\n",
      "    def predict_proba(self, data: pd.DataFrame) -> pd.DataFrame:\n",
      "\n",
      "        self.mode = 'predict'\n",
      "        log.info('Cleaning the data')\n",
      "        data = cleaner(data=data,pct_invalid=self.problem_definition.pct_invalid,ignore_features=self.problem_definition.ignore_features,identifiers=self.identifiers,dtype_dict=self.dtype_dict,target=self.target,mode=self.mode,timeseries_settings=self.problem_definition.timeseries_settings,anomaly_detection=self.problem_definition.anomaly_detection)\n",
      "        \n",
      "        \n",
      "        \n",
      "        encoded_ds = lightwood.encode(self.encoders, data, self.target)[0]\n",
      "        encoded_data = encoded_ds.get_encoded_data(include_target=False)\n",
      "        \n",
      "\n",
      "        df = self.ensemble(encoded_ds, predict_proba=True)\n",
      "        insights = explain(data=data,encoded_data=encoded_data,predictions=df,ts_analysis=None,timeseries_settings=self.problem_definition.timeseries_settings,positive_domain=self.statistical_analysis.positive_domain,fixed_confidence=self.problem_definition.fixed_confidence,anomaly_detection=self.problem_definition.anomaly_detection,anomaly_error_rate=self.problem_definition.anomaly_error_rate,anomaly_cooldown=self.problem_definition.anomaly_cooldown,analysis=self.runtime_analyzer,target_name=self.target,target_dtype=self.dtype_dict[self.target])\n",
      "        return insights\n",
      "        \n",
      "\n"
     ]
    }
   ],
   "source": [
    "# Generate some code\n",
    "code = code_from_json_ai(modified_json)\n",
    "print(code)"
   ]
  },
  {
   "cell_type": "markdown",
   "id": "liked-horizontal",
   "metadata": {},
   "source": [
    "From above, we see this is what a start-to-finish script would look like. We auto-generate all imports, necessary keywords, and details required to train your custom models. From here, all we need to do is make a predictor \"object\" and then train it!\n",
    "\n",
    "Let's make that predictor object and get started!"
   ]
  },
  {
   "cell_type": "code",
   "execution_count": 14,
   "id": "patent-treaty",
   "metadata": {
    "scrolled": true
   },
   "outputs": [
    {
     "name": "stderr",
     "output_type": "stream",
     "text": [
      "INFO:lightwood-3276:Starting statistical analysis\n",
      "INFO:lightwood-3276:Finished statistical analysis\n",
      "INFO:lightwood-3276:distilbert-base-uncased MLM text encoder\n",
      "INFO:lightwood-3276:Embedding mode off. Logits are output of encode()\n",
      "INFO:lightwood-3276:Cleaning the data\n",
      "INFO:lightwood-3276:Splitting the data into 30 folds\n",
      "INFO:lightwood-3276:Preparing the encoders\n",
      "INFO:lightwood-3276:Encoder preping dict length of: 1\n",
      "INFO:lightwood-3276:Done running for: Rating\n",
      "INFO:lightwood-3276:Training model.\n",
      "INFO:lightwood-3276:Preparing the training data\n",
      "INFO:lightwood-3276:Training the model\n",
      "/home/natasha/Documents/lightwood/lightwood/encoder/text/helpers/mlm_helpers.py:83: UserWarning: To copy construct from a tensor, it is recommended to use sourceTensor.clone().detach() or sourceTensor.clone().detach().requires_grad_(True), rather than torch.tensor(sourceTensor).\n",
      "  item = {key: torch.tensor(val[idx]) for key, val in self.encodings.items()}\n",
      "INFO:lightwood-3276:distilbert-base-uncased MLM text encoder at epoch 1 and loss 0.014342751270485569!\n",
      "INFO:lightwood-3276:MLM text encoder is prepared!\n",
      "INFO:lightwood-3276:Featurizing the data\n",
      "INFO:lightwood-3276:Training the models\n",
      "INFO:lightwood-3276:Unit Mixer just borrows from encoder\n",
      "INFO:lightwood-3276:Ensembling the model\n",
      "INFO:lightwood-3276:Model UnitClassifier obtained a best-of evaluation score of 0.1997\n",
      "INFO:lightwood-3276:Picked best model: UnitClassifier\n",
      "INFO:lightwood-3276:Analyzing the ensemble\n"
     ]
    }
   ],
   "source": [
    "# Turn the code above into a predictor object\n",
    "predictor = predictor_from_code(code)\n",
    "\n",
    "# Run the generated code on the dataset!\n",
    "predictor.learn(data)"
   ]
  },
  {
   "cell_type": "markdown",
   "id": "enhanced-quarter",
   "metadata": {},
   "source": [
    "From the log file, you should see that we call the `distilbert-base-uncased MLM text encoder`. We also see that we deploy 2 encoders - one for Rating which represents it as a one-hot-encoded vector and one for the Review, which uses the MLM model. You'll see the term 'Training model' twice - this automatically flags for each encoder you deploy, whether it is rule based or trained.\n",
    "\n",
    "You'll see some notes from the MLM encoder - the output of the encode flag will be the logits of the class, or tokens we represented. The unit mixer will directly inherit that and make for an easy output.\n",
    "\n",
    "Let's now put this to the test - let's predict on our test set. The output will be a pandas DataFrame."
   ]
  },
  {
   "cell_type": "code",
   "execution_count": 15,
   "id": "appropriate-bryan",
   "metadata": {},
   "outputs": [
    {
     "name": "stderr",
     "output_type": "stream",
     "text": [
      "INFO:lightwood-3276:Cleaning the data\n"
     ]
    }
   ],
   "source": [
    "result = predictor.predict(test)"
   ]
  },
  {
   "cell_type": "markdown",
   "id": "practical-judge",
   "metadata": {},
   "source": [
    "We can see the output has the ground-truth values, the predictions from Lightwood, and the confidence based on the logits. Higher confidences suggest stronger conviction in the predictors. Given the model has a MASSIVE vocabulary, and the very shallow training we did, it's unsurprising our confidences are generally low:"
   ]
  },
  {
   "cell_type": "code",
   "execution_count": 16,
   "id": "authentic-pickup",
   "metadata": {},
   "outputs": [
    {
     "data": {
      "text/html": [
       "<div>\n",
       "<style scoped>\n",
       "    .dataframe tbody tr th:only-of-type {\n",
       "        vertical-align: middle;\n",
       "    }\n",
       "\n",
       "    .dataframe tbody tr th {\n",
       "        vertical-align: top;\n",
       "    }\n",
       "\n",
       "    .dataframe thead th {\n",
       "        text-align: right;\n",
       "    }\n",
       "</style>\n",
       "<table border=\"1\" class=\"dataframe\">\n",
       "  <thead>\n",
       "    <tr style=\"text-align: right;\">\n",
       "      <th></th>\n",
       "      <th>truth</th>\n",
       "      <th>prediction</th>\n",
       "      <th>confidence</th>\n",
       "    </tr>\n",
       "  </thead>\n",
       "  <tbody>\n",
       "    <tr>\n",
       "      <th>0</th>\n",
       "      <td>3</td>\n",
       "      <td>2</td>\n",
       "      <td>0.29</td>\n",
       "    </tr>\n",
       "    <tr>\n",
       "      <th>1</th>\n",
       "      <td>1</td>\n",
       "      <td>2</td>\n",
       "      <td>0.19</td>\n",
       "    </tr>\n",
       "    <tr>\n",
       "      <th>2</th>\n",
       "      <td>4</td>\n",
       "      <td>2</td>\n",
       "      <td>0.19</td>\n",
       "    </tr>\n",
       "    <tr>\n",
       "      <th>3</th>\n",
       "      <td>5</td>\n",
       "      <td>5</td>\n",
       "      <td>0.39</td>\n",
       "    </tr>\n",
       "    <tr>\n",
       "      <th>4</th>\n",
       "      <td>5</td>\n",
       "      <td>5</td>\n",
       "      <td>0.39</td>\n",
       "    </tr>\n",
       "  </tbody>\n",
       "</table>\n",
       "</div>"
      ],
      "text/plain": [
       "   truth prediction  confidence\n",
       "0      3          2        0.29\n",
       "1      1          2        0.19\n",
       "2      4          2        0.19\n",
       "3      5          5        0.39\n",
       "4      5          5        0.39"
      ]
     },
     "execution_count": 16,
     "metadata": {},
     "output_type": "execute_result"
    }
   ],
   "source": [
    "# Observe a few instances\n",
    "result.head()"
   ]
  },
  {
   "cell_type": "markdown",
   "id": "primary-rehabilitation",
   "metadata": {},
   "source": [
    "Let's see how the distributions of ground-truth matched up with the predicted values:"
   ]
  },
  {
   "cell_type": "code",
   "execution_count": 17,
   "id": "sensitive-defense",
   "metadata": {},
   "outputs": [
    {
     "data": {
      "image/png": "[encoded data removed]",
      "text/plain": [
       "<Figure size 1152x432 with 2 Axes>"
      ]
     },
     "metadata": {
      "needs_background": "light"
     },
     "output_type": "display_data"
    }
   ],
   "source": [
    "# An example of the distribution of the model \n",
    "\n",
    "import matplotlib.pyplot as plt\n",
    "\n",
    "# Distribution of the ratings\n",
    "f, ax = plt.subplots(1, 2, figsize=(16,6))\n",
    "\n",
    "hist, bins = np.histogram(result[\"truth\"].astype(int), bins=np.arange(0.5, 6.5, 1))\n",
    "hist2, _ = np.histogram(result[\"prediction\"].astype(int), bins=np.arange(0.5, 6.5, 1))\n",
    "\n",
    "ax[0].bar(bins[:-1], hist.astype(np.float32) / hist.sum(), width=0.5)\n",
    "ax[0].set_xticks([i+0.5 for i in range(5)])\n",
    "ax[0].set_xticklabels([str(i+1) for i in range(5)])\n",
    "ax[0].set_yticks(np.arange(0, 0.55, 0.05))\n",
    "\n",
    "ax[0].set_xlabel(\"Ratings\")\n",
    "ax[0].set_ylabel(\"Percent of Dataset\")\n",
    "ax[0].set_title(\"Ground-truth Ratings\")\n",
    "\n",
    "\n",
    "ax[1].bar(bins[:-1], hist2.astype(np.float32) / hist2.sum(), width=0.5, color='r')\n",
    "ax[1].set_xticks([i+0.5 for i in range(5)])\n",
    "ax[1].set_xticklabels([str(i+1) for i in range(5)])\n",
    "ax[1].set_yticks(np.arange(0, 0.55, 0.05))\n",
    "\n",
    "ax[1].set_xlabel(\"Ratings\")\n",
    "ax[1].set_ylabel(\"Percent of Dataset\")\n",
    "ax[1].set_title(\"Prediction Ratings\")\n",
    "f.tight_layout()"
   ]
  },
  {
   "cell_type": "markdown",
   "id": "ceramic-scratch",
   "metadata": {},
   "source": [
    "The model seems to allocate high reviews (4s and 5s) and low reviews (1s) together. It is possible that positive sentiment is clear in high reviews, but middling ones (like 2s and 3s) might be hard to differentiate, hence map to 2."
   ]
  }
 ],
 "metadata": {
  "kernelspec": {
   "display_name": "mdb",
   "language": "python",
   "name": "mdb"
  },
  "language_info": {
   "codemirror_mode": {
    "name": "ipython",
    "version": 3
   },
   "file_extension": ".py",
   "mimetype": "text/x-python",
   "name": "python",
   "nbconvert_exporter": "python",
   "pygments_lexer": "ipython3",
   "version": "3.8.10"
  }
 },
 "nbformat": 4,
 "nbformat_minor": 5
}
